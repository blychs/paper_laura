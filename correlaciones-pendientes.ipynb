{
 "cells": [
  {
   "cell_type": "code",
   "execution_count": 4,
   "id": "laughing-anthropology",
   "metadata": {},
   "outputs": [],
   "source": [
    "import numpy as np\n",
    "import matplotlib.pyplot as plt\n",
    "import pandas as pd\n",
    "from scipy import stats"
   ]
  },
  {
   "cell_type": "code",
   "execution_count": 48,
   "id": "portuguese-black",
   "metadata": {
    "jupyter": {
     "source_hidden": true
    },
    "tags": []
   },
   "outputs": [
    {
     "name": "stdout",
     "output_type": "stream",
     "text": [
      "Montevideo \t RH[%] vs (PM2.5 / 30 * 100) \t pendiente = 0.0931 \t ordenada = -0.2633 \t R = 0.0523\n",
      "San José \t RH[%] vs (PM2.5 / 30 * 100) \t pendiente = -0.0617 \t ordenada = 42.4062 \t R = 0.0651\n",
      "Quito \t\t RH[%] vs (PM2.5 / 30 * 100) \t pendiente = 0.012 \t ordenada = 17.4413 \t R = 0.0239\n",
      "Buenos Aires \t RH[%] vs (PM2.5 / 30 * 100) \t pendiente = 0.0203 \t ordenada = 12.6689 \t R = 0.0188\n",
      "Medellín \t RH[%] vs (PM2.5 / 30 * 100) \t pendiente = -0.071 \t ordenada = 47.7314 \t R = 0.0523\n",
      "Sao Paulo \t RH[%] vs (PM2.5 / 30 * 100) \t pendiente = -0.181 \t ordenada = 72.1755 \t R = 0.3647\n"
     ]
    }
   ],
   "source": [
    "resultados = pd.DataFrame()\n",
    "\n",
    "uruguay = pd.read_excel('Base de datos OC-EC Arcal_conmeteo_proc.xlsx', sheet_name='Uruguay')\n",
    "j = 'RH[%]'\n",
    "i ='PM 2.5 (µg/Nm3)'\n",
    "mask = ~np.isnan(uruguay[j]) & ~np.isnan(uruguay[i])\n",
    "slope, intercept, r_value, p_value, std_err = stats.linregress(uruguay[j][mask] / 30 * 100, uruguay[i][mask])\n",
    "print(f'Montevideo \\t {j} vs (PM2.5 / 30 * 100) \\t pendiente = {round(slope, 4)} \\t ordenada = {round(intercept,4)} \\t R = {round(r_value ** 2,4)}')\n",
    "\n",
    "san_jose = pd.read_excel('Base de datos OC-EC Arcal_conmeteo_proc.xlsx', sheet_name='Costa Rica')\n",
    "j = 'RH[%]'\n",
    "i ='PM2,5'\n",
    "mask = ~np.isnan(san_jose[j]) & ~np.isnan(san_jose[i])\n",
    "slope, intercept, r_value, p_value, std_err = stats.linregress(san_jose[j][mask] / 30 * 100, san_jose[i][mask])\n",
    "print(f'San José \\t {j} vs (PM2.5 / 30 * 100) \\t pendiente = {round(slope, 4)} \\t ordenada = {round(intercept,4)} \\t R = {round(r_value ** 2,4)}')\n",
    "\n",
    "quito = pd.read_excel('Base de datos OC-EC Arcal_conmeteo_proc.xlsx', sheet_name='Ecuador')\n",
    "j = 'RH[%]'\n",
    "i ='PM 2.5 (µg/Nm3)'\n",
    "mask = ~np.isnan(quito[j]) & ~np.isnan(quito[i])\n",
    "slope, intercept, r_value, p_value, std_err = stats.linregress(quito[j][mask] / 30 * 100, quito[i][mask])\n",
    "print(f'Quito \\t\\t {j} vs (PM2.5 / 30 * 100) \\t pendiente = {round(slope, 4)} \\t ordenada = {round(intercept,4)} \\t R = {round(r_value ** 2,4)}')\n",
    "\n",
    "ezeiza = pd.read_excel('Base de datos OC-EC Arcal_conmeteo_proc.xlsx', sheet_name='Argentina')\n",
    "j = 'RH[%]'\n",
    "i ='PM 2.5 (µg/Nm3)'\n",
    "mask = ~np.isnan(ezeiza[j]) & ~np.isnan(ezeiza[i])\n",
    "slope, intercept, r_value, p_value, std_err = stats.linregress(ezeiza[j][mask] / 30 * 100, ezeiza[i][mask])\n",
    "print(f'Buenos Aires \\t {j} vs (PM2.5 / 30 * 100) \\t pendiente = {round(slope, 4)} \\t ordenada = {round(intercept,4)} \\t R = {round(r_value ** 2,4)}')\n",
    "\n",
    "medellin = pd.read_excel('Base de datos OC-EC Arcal_conmeteo_proc.xlsx', sheet_name='Colombia')\n",
    "j = 'RH[%]'\n",
    "i ='PM2,5'\n",
    "mask = ~np.isnan(medellin[j]) & ~np.isnan(medellin[i])\n",
    "slope, intercept, r_value, p_value, std_err = stats.linregress(medellin[j][mask] / 30 * 100, medellin[i][mask])\n",
    "print(f'Medellín \\t {j} vs (PM2.5 / 30 * 100) \\t pendiente = {round(slope, 4)} \\t ordenada = {round(intercept,4)} \\t R = {round(r_value ** 2,4)}')\n",
    "\n",
    "saopaulo = pd.read_excel('Base de datos OC-EC Arcal_conmeteo_proc.xlsx', sheet_name='Brasil')\n",
    "j = 'RH[%]'\n",
    "i ='PM2.5'\n",
    "mask = ~np.isnan(saopaulo[j]) & ~np.isnan(saopaulo[i])\n",
    "slope, intercept, r_value, p_value, std_err = stats.linregress(saopaulo[j][mask] / 30 * 100, saopaulo[i][mask])\n",
    "print(f'Sao Paulo \\t {j} vs (PM2.5 / 30 * 100) \\t pendiente = {round(slope, 4)} \\t ordenada = {round(intercept,4)} \\t R = {round(r_value ** 2,4)}')"
   ]
  },
  {
   "cell_type": "code",
   "execution_count": 49,
   "id": "soviet-address",
   "metadata": {
    "jupyter": {
     "source_hidden": true
    },
    "tags": []
   },
   "outputs": [
    {
     "name": "stdout",
     "output_type": "stream",
     "text": [
      "Montevideo \t tmpd[C] vs (PM2.5 / 30 * 100) \t pendiente = -0.3299 \t ordenada = 39.632 \t R = 0.1439\n",
      "San José \t tmpd[C] vs (PM2.5 / 30 * 100) \t pendiente = 0.1155 \t ordenada = 18.2117 \t R = 0.0024\n",
      "Quito \t\t tmpd[C] vs (PM2.5 / 30 * 100) \t pendiente = -0.03 \t ordenada = 21.7582 \t R = 0.0047\n",
      "Buenos Aires \t tmpd[C] vs (PM2.5 / 30 * 100) \t pendiente = 0.001 \t ordenada = 17.4008 \t R = 0.0\n",
      "Medellín \t tmpd[C] vs (PM2.5 / 30 * 100) \t pendiente = 0.1972 \t ordenada = 17.6191 \t R = 0.0123\n",
      "Sao Paulo \t tmpd[C] vs (PM2.5 / 30 * 100) \t pendiente = 0.4128 \t ordenada = 3.1639 \t R = 0.1687\n"
     ]
    }
   ],
   "source": [
    "resultados = pd.DataFrame()\n",
    "\n",
    "uruguay = pd.read_excel('Base de datos OC-EC Arcal_conmeteo_proc.xlsx', sheet_name='Uruguay')\n",
    "j = 'tmpd[C]'\n",
    "i ='PM 2.5 (µg/Nm3)'\n",
    "mask = ~np.isnan(uruguay[j]) & ~np.isnan(uruguay[i])\n",
    "slope, intercept, r_value, p_value, std_err = stats.linregress(uruguay[j][mask] / 30 * 100, uruguay[i][mask])\n",
    "print(f'Montevideo \\t {j} vs (PM2.5 / 30 * 100) \\t pendiente = {round(slope, 4)} \\t ordenada = {round(intercept,4)} \\t R = {round(r_value ** 2,4)}')\n",
    "\n",
    "san_jose = pd.read_excel('Base de datos OC-EC Arcal_conmeteo_proc.xlsx', sheet_name='Costa Rica')\n",
    "j = 'tmpd[C]'\n",
    "i ='PM2,5'\n",
    "mask = ~np.isnan(san_jose[j]) & ~np.isnan(san_jose[i])\n",
    "slope, intercept, r_value, p_value, std_err = stats.linregress(san_jose[j][mask] / 30 * 100, san_jose[i][mask])\n",
    "print(f'San José \\t {j} vs (PM2.5 / 30 * 100) \\t pendiente = {round(slope, 4)} \\t ordenada = {round(intercept,4)} \\t R = {round(r_value ** 2,4)}')\n",
    "\n",
    "quito = pd.read_excel('Base de datos OC-EC Arcal_conmeteo_proc.xlsx', sheet_name='Ecuador')\n",
    "j = 'tmpd[C]'\n",
    "i ='PM 2.5 (µg/Nm3)'\n",
    "mask = ~np.isnan(quito[j]) & ~np.isnan(quito[i])\n",
    "slope, intercept, r_value, p_value, std_err = stats.linregress(quito[j][mask] / 30 * 100, quito[i][mask])\n",
    "print(f'Quito \\t\\t {j} vs (PM2.5 / 30 * 100) \\t pendiente = {round(slope, 4)} \\t ordenada = {round(intercept,4)} \\t R = {round(r_value ** 2,4)}')\n",
    "\n",
    "ezeiza = pd.read_excel('Base de datos OC-EC Arcal_conmeteo_proc.xlsx', sheet_name='Argentina')\n",
    "j = 'tmpd[C]'\n",
    "i ='PM 2.5 (µg/Nm3)'\n",
    "mask = ~np.isnan(ezeiza[j]) & ~np.isnan(ezeiza[i])\n",
    "slope, intercept, r_value, p_value, std_err = stats.linregress(ezeiza[j][mask] / 30 * 100, ezeiza[i][mask])\n",
    "print(f'Buenos Aires \\t {j} vs (PM2.5 / 30 * 100) \\t pendiente = {round(slope, 4)} \\t ordenada = {round(intercept,4)} \\t R = {round(r_value ** 2,4)}')\n",
    "\n",
    "medellin = pd.read_excel('Base de datos OC-EC Arcal_conmeteo_proc.xlsx', sheet_name='Colombia')\n",
    "j = 'tmpd[C]'\n",
    "i ='PM2,5'\n",
    "mask = ~np.isnan(medellin[j]) & ~np.isnan(medellin[i])\n",
    "slope, intercept, r_value, p_value, std_err = stats.linregress(medellin[j][mask] / 30 * 100, medellin[i][mask])\n",
    "print(f'Medellín \\t {j} vs (PM2.5 / 30 * 100) \\t pendiente = {round(slope, 4)} \\t ordenada = {round(intercept,4)} \\t R = {round(r_value ** 2,4)}')\n",
    "\n",
    "saopaulo = pd.read_excel('Base de datos OC-EC Arcal_conmeteo_proc.xlsx', sheet_name='Brasil')\n",
    "j = 'tmpd[C]'\n",
    "i ='PM2.5'\n",
    "mask = ~np.isnan(saopaulo[j]) & ~np.isnan(saopaulo[i])\n",
    "slope, intercept, r_value, p_value, std_err = stats.linregress(saopaulo[j][mask] / 30 * 100, saopaulo[i][mask])\n",
    "print(f'Sao Paulo \\t {j} vs (PM2.5 / 30 * 100) \\t pendiente = {round(slope, 4)} \\t ordenada = {round(intercept,4)} \\t R = {round(r_value ** 2,4)}')"
   ]
  },
  {
   "cell_type": "code",
   "execution_count": 51,
   "id": "progressive-match",
   "metadata": {
    "jupyter": {
     "source_hidden": true
    },
    "tags": []
   },
   "outputs": [
    {
     "name": "stdout",
     "output_type": "stream",
     "text": [
      "Montevideo \t wspd[m/s] vs (PM2.5 / 30 * 100) \t pendiente = -1.8917 \t ordenada = 46.5688 \t R = 0.2822\n",
      "San José \t wspd[m/s] vs (PM2.5 / 30 * 100) \t pendiente = 0.0363 \t ordenada = 26.2572 \t R = 0.0196\n",
      "Quito \t\t wspd[m/s] vs (PM2.5 / 30 * 100) \t pendiente = -0.0749 \t ordenada = 20.8655 \t R = 0.0081\n",
      "Buenos Aires \t wspd[m/s] vs (PM2.5 / 30 * 100) \t pendiente = -0.6956 \t ordenada = 25.1165 \t R = 0.1267\n",
      "Medellín \t wspd[m/s] vs (PM2.5 / 30 * 100) \t pendiente = 0.2794 \t ordenada = 30.4081 \t R = 0.0131\n",
      "Sao Paulo \t wspd[m/s] vs (PM2.5 / 30 * 100) \t pendiente = -1.8751 \t ordenada = 48.4677 \t R = 0.2876\n"
     ]
    }
   ],
   "source": [
    "resultados = pd.DataFrame()\n",
    "\n",
    "uruguay = pd.read_excel('Base de datos OC-EC Arcal_conmeteo_proc.xlsx', sheet_name='Uruguay')\n",
    "j = 'wspd[m/s]'\n",
    "i ='PM 2.5 (µg/Nm3)'\n",
    "mask = ~np.isnan(uruguay[j]) & ~np.isnan(uruguay[i])\n",
    "slope, intercept, r_value, p_value, std_err = stats.linregress(uruguay[j][mask] / 30 * 100, uruguay[i][mask])\n",
    "print(f'Montevideo \\t {j} vs (PM2.5 / 30 * 100) \\t pendiente = {round(slope, 4)} \\t ordenada = {round(intercept,4)} \\t R = {round(r_value ** 2,4)}')\n",
    "\n",
    "san_jose = pd.read_excel('Base de datos OC-EC Arcal_conmeteo_proc.xlsx', sheet_name='Costa Rica')\n",
    "j = 'wspd[m/s]'\n",
    "i ='PM2,5'\n",
    "mask = ~np.isnan(san_jose[j]) & ~np.isnan(san_jose[i])\n",
    "slope, intercept, r_value, p_value, std_err = stats.linregress(san_jose[j][mask] / 30 * 100, san_jose[i][mask])\n",
    "print(f'San José \\t {j} vs (PM2.5 / 30 * 100) \\t pendiente = {round(slope, 4)} \\t ordenada = {round(intercept,4)} \\t R = {round(r_value ** 2,4)}')\n",
    "\n",
    "quito = pd.read_excel('Base de datos OC-EC Arcal_conmeteo_proc.xlsx', sheet_name='Ecuador')\n",
    "j = 'wspd[m/s]'\n",
    "i ='PM 2.5 (µg/Nm3)'\n",
    "mask = ~np.isnan(quito[j]) & ~np.isnan(quito[i])\n",
    "slope, intercept, r_value, p_value, std_err = stats.linregress(quito[j][mask] / 30 * 100, quito[i][mask])\n",
    "print(f'Quito \\t\\t {j} vs (PM2.5 / 30 * 100) \\t pendiente = {round(slope, 4)} \\t ordenada = {round(intercept,4)} \\t R = {round(r_value ** 2,4)}')\n",
    "\n",
    "ezeiza = pd.read_excel('Base de datos OC-EC Arcal_conmeteo_proc.xlsx', sheet_name='Argentina')\n",
    "j = 'wspd[m/s]'\n",
    "i ='PM 2.5 (µg/Nm3)'\n",
    "mask = ~np.isnan(ezeiza[j]) & ~np.isnan(ezeiza[i])\n",
    "slope, intercept, r_value, p_value, std_err = stats.linregress(ezeiza[j][mask] / 30 * 100, ezeiza[i][mask])\n",
    "print(f'Buenos Aires \\t {j} vs (PM2.5 / 30 * 100) \\t pendiente = {round(slope, 4)} \\t ordenada = {round(intercept,4)} \\t R = {round(r_value ** 2,4)}')\n",
    "\n",
    "medellin = pd.read_excel('Base de datos OC-EC Arcal_conmeteo_proc.xlsx', sheet_name='Colombia')\n",
    "j = 'wspd[m/s]'\n",
    "i ='PM2,5'\n",
    "mask = ~np.isnan(medellin[j]) & ~np.isnan(medellin[i])\n",
    "slope, intercept, r_value, p_value, std_err = stats.linregress(medellin[j][mask] / 30 * 100, medellin[i][mask])\n",
    "print(f'Medellín \\t {j} vs (PM2.5 / 30 * 100) \\t pendiente = {round(slope, 4)} \\t ordenada = {round(intercept,4)} \\t R = {round(r_value ** 2,4)}')\n",
    "\n",
    "saopaulo = pd.read_excel('Base de datos OC-EC Arcal_conmeteo_proc.xlsx', sheet_name='Brasil')\n",
    "j = 'wspd[m/s]'\n",
    "i ='PM2.5'\n",
    "mask = ~np.isnan(saopaulo[j]) & ~np.isnan(saopaulo[i])\n",
    "slope, intercept, r_value, p_value, std_err = stats.linregress(saopaulo[j][mask] / 30 * 100, saopaulo[i][mask])\n",
    "print(f'Sao Paulo \\t {j} vs (PM2.5 / 30 * 100) \\t pendiente = {round(slope, 4)} \\t ordenada = {round(intercept,4)} \\t R = {round(r_value ** 2,4)}')"
   ]
  },
  {
   "cell_type": "code",
   "execution_count": 62,
   "id": "composed-auditor",
   "metadata": {},
   "outputs": [
    {
     "data": {
      "image/png": "[encoded data removed]",
      "text/plain": [
       "<Figure size 432x288 with 1 Axes>"
      ]
     },
     "metadata": {
      "needs_background": "light"
     },
     "output_type": "display_data"
    }
   ],
   "source": [
    "plt.plot(saopaulo['Fecha'], saopaulo['wspd[m/s]'], 'o-')\n",
    "plt.xticks(rotation=45, ha=\"right\")\n",
    "plt.ylabel('wspd[m/s]')\n",
    "plt.show()\n",
    "saopaulo_idx = saopaulo.set_index('Fecha')\n"
   ]
  }
 ],
 "metadata": {
  "jupytext": {
   "encoding": "# -*- coding: utf-8 -*-",
   "formats": "ipynb,py:light"
  },
  "kernelspec": {
   "display_name": "Python 3",
   "language": "python",
   "name": "python3"
  },
  "language_info": {
   "codemirror_mode": {
    "name": "ipython",
    "version": 3
   },
   "file_extension": ".py",
   "mimetype": "text/x-python",
   "name": "python",
   "nbconvert_exporter": "python",
   "pygments_lexer": "ipython3",
   "version": "3.8.5"
  }
 },
 "nbformat": 4,
 "nbformat_minor": 5
}
